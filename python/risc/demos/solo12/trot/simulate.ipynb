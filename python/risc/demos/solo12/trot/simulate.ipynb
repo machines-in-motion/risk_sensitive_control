{
 "cells": [
  {
   "cell_type": "code",
   "execution_count": 1,
   "id": "8bbcbf3a",
   "metadata": {},
   "outputs": [],
   "source": [
    "import numpy as np\n",
    "import matplotlib.pylab as plt\n",
    "import pinocchio as pin\n",
    "from bullet_utils.env import BulletEnvWithGround\n",
    "from robot_properties_solo.solo12wrapper import Solo12Robot, Solo12Config\n",
    "\n",
    "\n",
    "from dynamic_graph_head import ThreadHead, SimHead, SimVicon, HoldPDController\n",
    "\n"
   ]
  },
  {
   "cell_type": "code",
   "execution_count": 2,
   "id": "b6bae655",
   "metadata": {},
   "outputs": [],
   "source": [
    "class WholeBodyFeedbackController:\n",
    "    def __init__(self, head, vicon_name, reference_path):\n",
    "        self.robot = Solo12Config.buildRobotWrapper()\n",
    "        self.rmodel = self.robot.model\n",
    "        self.vicon_name = vicon_name\n",
    "        # load precomputed trajectories \n",
    "        self.K = np.load(reference_path+'_K_ref.npy') \n",
    "        self.k = np.load(reference_path+'_u_ref.npy')  \n",
    "        self.x_ref = np.load(reference_path+'_x_ref.npy')  \n",
    "        # process trajectories \n",
    "        self.horizon = self.k.shape[0]\n",
    "        self.x0 = self.x_ref[0]\n",
    "\n",
    "        # read sensors \n",
    "        self.joint_positions = head.get_sensor('joint_positions')\n",
    "        self.joint_velocities = head.get_sensor('joint_velocities')\n",
    "        self.imu_gyroscope = head.get_sensor('imu_gyroscope')\n",
    "        # some variables \n",
    "        self.x = np.zeros(self.robot.nq + self.robot.nv)\n",
    "        self.u = np.zeros(self.robot.nv -6)\n",
    "        self.d = 0. # interpolation step \n",
    "        self.t = 0\n",
    "        self.runController = True \n",
    "        # saftey controller \n",
    "        self.endController = HoldPDController(head, 3., 0.05, False) \n",
    "        \n",
    "\n",
    "    def interpolate(self, x1, x2, alpha):\n",
    "        \"\"\" interpolate between states \"\"\"\n",
    "        x = np.zeros(self.rmodel.nq+self.rmodel.nv)\n",
    "        x[:self.rmodel.nq] =  pin.interpolate(self.rmodel, x1[:self.rmodel.nq], x2[:self.rmodel.nq], alpha)\n",
    "        x[self.rmodel.nq:] = x1[self.rmodel.nq:] + alpha*(x2[self.rmodel.nq:] - x1[self.rmodel.nq:])\n",
    "        return x\n",
    "\n",
    "    def difference(self, x1, x2):\n",
    "        \"\"\" computes x2 (-) x1 on manifold \"\"\" \n",
    "        dx = np.zeros(2*self.rmodel.nv)\n",
    "        dx[:self.rmodel.nv] = pin.difference(self.rmodel, x1[:self.rmodel.nq], x2[:self.rmodel.nq])\n",
    "        dx[self.rmodel.nv:] =  x2[self.rmodel.nq:] -  x1[self.rmodel.nq:]\n",
    "        return dx  \n",
    "\n",
    "    def warmup(self, thread):\n",
    "        thread.vicon.bias_position(self.vicon_name)\n",
    "\n",
    "    def start_controller(self):\n",
    "        self.runController = True \n",
    "        \n",
    "    def get_base(self, thread):\n",
    "        base_pos, base_vel = thread.vicon.get_state(self.vicon_name)\n",
    "        base_vel[3:] = self.imu_gyroscope\n",
    "        return base_pos, base_vel\n",
    "    \n",
    "    def run(self, thread):\n",
    "        # get feedback signal \n",
    "        base_pos, base_vel = self.get_base(thread)\n",
    "        self.x[:] = np.hstack([base_pos, self.joint_positions, base_vel, self.joint_velocities])\n",
    "        # interpolate x desired \n",
    "        xdes = self.interpolate(self.x_ref[self.t], self.x_ref[self.t+1], self.d)\n",
    "        # compute error signal and feedback control \n",
    "        dx = self.difference(self.x, xdes)\n",
    "        self.u[:] = self.k[self.t] - self.K[self.t].dot(dx)\n",
    "        # set control \n",
    "        head.set_control('ctrl_joint_torques', self.u)\n",
    "        # increment time and interpolation steps  \n",
    "        if self.runController:\n",
    "            self.d += .1 \n",
    "            if (self.d - 1.)**2 < 1.e-5: \n",
    "                self.t += 1\n",
    "                self.d = 0. \n",
    "        \n",
    "\n",
    "        # end controller once horizon is reached \n",
    "        if self.t == self.horizon:\n",
    "            head.switch_controllers(self.endController) \n",
    "        "
   ]
  },
  {
   "cell_type": "code",
   "execution_count": 3,
   "id": "f18eea1a",
   "metadata": {},
   "outputs": [
    {
     "name": "stdout",
     "output_type": "stream",
     "text": [
      "Hello world from websocket thread. <ThreadHead(Thread-4, initial)>\n"
     ]
    }
   ],
   "source": [
    "path = 'fddp'\n",
    "bullet_env = BulletEnvWithGround()\n",
    "\n",
    "# Create a robot instance. This initializes the simulator as well.\n",
    "robot = Solo12Robot()\n",
    "bullet_env.add_robot(robot)\n",
    "\n",
    "\n",
    "head = SimHead(robot, vicon_name='solo12')\n",
    "thread_head = ThreadHead(\n",
    "    0.001, # dt.\n",
    "    HoldPDController(head, 3., 0.05, False), # Safety controllers.\n",
    "    head, # Heads to read / write from.\n",
    "    [     # Utils.\n",
    "        ('vicon', SimVicon(['solo12/solo12']))\n",
    "    ], \n",
    "    bullet_env # Environment to step.\n",
    ")"
   ]
  },
  {
   "cell_type": "code",
   "execution_count": 4,
   "id": "3f501047",
   "metadata": {},
   "outputs": [],
   "source": [
    "cntrl = WholeBodyFeedbackController(head, 'solo12/solo12', path)\n",
    "thread_head.switch_controllers(cntrl)"
   ]
  },
  {
   "cell_type": "code",
   "execution_count": null,
   "id": "e6244b89",
   "metadata": {},
   "outputs": [
    {
     "name": "stdout",
     "output_type": "stream",
     "text": [
      "  Not logging 'robot' as field type '<class 'pinocchio.robot_wrapper.RobotWrapper'>' is unsupported\n",
      "  Not logging 'rmodel' as field type '<class 'pinocchio.pinocchio_pywrap.Model'>' is unsupported\n",
      "  Not logging 'vicon_name' as field type '<class 'str'>' is unsupported\n",
      "  Not logging 'K' as field type '<class 'numpy.ndarray'>' is unsupported\n",
      "  Not logging 'k' as field type '<class 'numpy.ndarray'>' is unsupported\n",
      "  Not logging 'x_ref' as field type '<class 'numpy.ndarray'>' is unsupported\n",
      "  Not logging 'runController' as field type '<class 'bool'>' is unsupported\n",
      "  Not logging 'endController' as field type '<class 'dynamic_graph_head.controllers.HoldPDController'>' is unsupported\n",
      "!!! ThreadHead: Start streaming data.\n",
      "!!! ThreadHead: Start logging to file \"2021-07-19_13-59-52.mds\" for 30.00 seconds.\n"
     ]
    }
   ],
   "source": [
    "thread_head.start_streaming()\n",
    "thread_head.start_logging()\n",
    "\n",
    "thread_head.sim_run(5000)\n",
    "\n",
    "thread_head.stop_streaming()\n",
    "thread_head.stop_logging()\n",
    "\n",
    "# Plot timing information.\n",
    "thread_head.plot_timing()"
   ]
  },
  {
   "cell_type": "code",
   "execution_count": null,
   "id": "6d4fa595",
   "metadata": {},
   "outputs": [],
   "source": []
  }
 ],
 "metadata": {
  "kernelspec": {
   "display_name": "Python 3",
   "language": "python",
   "name": "python3"
  },
  "language_info": {
   "codemirror_mode": {
    "name": "ipython",
    "version": 3
   },
   "file_extension": ".py",
   "mimetype": "text/x-python",
   "name": "python",
   "nbconvert_exporter": "python",
   "pygments_lexer": "ipython3",
   "version": "3.9.6"
  }
 },
 "nbformat": 4,
 "nbformat_minor": 5
}
