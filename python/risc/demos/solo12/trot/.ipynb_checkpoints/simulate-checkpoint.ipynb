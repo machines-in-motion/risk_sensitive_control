{
 "cells": [
  {
   "cell_type": "code",
   "execution_count": 2,
   "id": "8bbcbf3a",
   "metadata": {},
   "outputs": [],
   "source": [
    "import numpy as np\n",
    "import matplotlib.pylab as plt\n",
    "import pinocchio as pin\n",
    "from bullet_utils.env import BulletEnvWithGround\n",
    "from robot_properties_solo.solo12wrapper import Solo12Robot, Solo12Config\n",
    "\n",
    "\n",
    "from dynamic_graph_head import ThreadHead, SimHead, SimVicon, HoldPDController\n",
    "\n"
   ]
  },
  {
   "cell_type": "code",
   "execution_count": 4,
   "id": "b6bae655",
   "metadata": {},
   "outputs": [],
   "source": [
    "class WholeBodyFeedbackController:\n",
    "    def __init__(self, head, vicon_name, reference_path):\n",
    "        self.robot = Solo12Config.buildRobotWrapper()\n",
    "        self.rmodel = self.robot.model\n",
    "        self.vicon_name = vicon_name\n",
    "        # load precomputed trajectories \n",
    "        self.K = np.load(reference_path+'_K_ref') \n",
    "        self.k = np.load(reference_path+'_u_ref')  \n",
    "        self.x_ref = np.load(reference_path+'_k_ref')  \n",
    "        # process trajectories \n",
    "        self.horizon = self.k.shape[0]\n",
    "        self.x0 = self.x_ref[0]\n",
    "\n",
    "        # read sensors \n",
    "        self.joint_positions = head.get_sensor('joint_positions')\n",
    "        self.joint_velocities = head.get_sensor('joint_velocities')\n",
    "        self.imu_gyroscope = head.get_sensor('imu_gyroscope')\n",
    "        # some variables \n",
    "        self.x = np.zeros(self.robot.nq + self.robot.nv)\n",
    "        self.u = np.zeros(self.robotnv -6)\n",
    "\n",
    "    def interpolate(self, x1, x2, alpha):\n",
    "        \"\"\" interpolate between states \"\"\"\n",
    "        x = np.zeros(self.rmodel.nq+self.rmodel.nv)\n",
    "        x[:self.rmodel.nq] =  pin.interpolate(self.rmodel, x1[:self.rmodel.nq], x2[:self.rmodel.nq], d)\n",
    "        x[self.rmodel.nq:] = x1[self.rmodel.nq:] + d*(x2[self.rmodel.nq:] - x1[self.rmodel.nq:])\n",
    "        return x\n",
    "\n",
    "    def difference(self, x1, x2):\n",
    "        \"\"\" computes x2 (-) x1 on manifold \"\"\" \n",
    "        dx = np.zeros(2*self.rmodel.nv)\n",
    "        dx[:self.rmodel.nv] = pin.difference(self.rmodel, x1[:self.rmodel.nq], x2[:self.rmodel.nq])\n",
    "        dx[self.rmodel.nv:] =  x2[self.rmodel.nq:] -  x1[self.rmodel.nq:]\n",
    "        return dx  \n",
    "\n",
    "    def warmup(self, thread):\n",
    "        thread.vicon.bias_position(self.vicon_name)\n",
    "\n",
    "    def get_base(self, thread):\n",
    "        base_pos, base_vel = thread.vicon.get_state(self.vicon_name)\n",
    "        base_vel[3:] = self.imu_gyroscope\n",
    "        return base_pos, base_vel\n",
    "    \n",
    "    def run(self, thread):\n",
    "        base_pos, base_vel = self.get_base(thread)\n",
    "\n",
    "        self.x[:] = np.hstack([base_pos, self.joint_positions, base_vel, self.joint_velocities])\n",
    "\n",
    "        "
   ]
  },
  {
   "cell_type": "code",
   "execution_count": null,
   "id": "0e5bb71d",
   "metadata": {},
   "outputs": [],
   "source": []
  }
 ],
 "metadata": {
  "kernelspec": {
   "display_name": "Python 3",
   "language": "python",
   "name": "python3"
  },
  "language_info": {
   "codemirror_mode": {
    "name": "ipython",
    "version": 3
   },
   "file_extension": ".py",
   "mimetype": "text/x-python",
   "name": "python",
   "nbconvert_exporter": "python",
   "pygments_lexer": "ipython3",
   "version": "3.9.6"
  }
 },
 "nbformat": 4,
 "nbformat_minor": 5
}
